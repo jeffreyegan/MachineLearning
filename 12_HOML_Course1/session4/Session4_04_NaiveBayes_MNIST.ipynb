{
 "cells": [
  {
   "cell_type": "markdown",
   "metadata": {},
   "source": [
    "# Naive Bayes on MNIST dataset\n",
    "The first step is to download the handwritten image dataset. "
   ]
  },
  {
   "cell_type": "code",
   "execution_count": null,
   "metadata": {},
   "outputs": [],
   "source": [
    "%pylab inline\n",
    "# Fetch the MNIST handwritten digit dataset\n",
    "import numpy as np\n",
    "import scipy.io\n",
    "#mnist = scipy.io.loadmat('mnist-original.mat')\n",
    "from sklearn.datasets import fetch_mldata\n",
    "mnist = fetch_mldata('MNIST original', data_home=\"./datasets\")"
   ]
  },
  {
   "cell_type": "markdown",
   "metadata": {},
   "source": [
    "# Let's display some data :)\n",
    "\n",
    "Now let's explore the data."
   ]
  },
  {
   "cell_type": "code",
   "execution_count": null,
   "metadata": {},
   "outputs": [],
   "source": [
    "# Display the number of samples \n",
    "print (\"(Number of samples, No. of pixels) = \", mnist.data.shape)\n",
    "\n",
    "# Display 9 number randomly selectly\n",
    "for c in range(1, 10):\n",
    "    subplot(3, 3,c)\n",
    "    i = randint(mnist.data.shape[0])\n",
    "    im = mnist.data[i].reshape((28,28))\n",
    "    axis(\"off\")\n",
    "    title(\"Label = {}\".format(mnist.target[i]))\n",
    "    imshow(im, cmap='gray')"
   ]
  },
  {
   "cell_type": "markdown",
   "metadata": {},
   "source": [
    "# Split the data into training and testing data"
   ]
  },
  {
   "cell_type": "code",
   "execution_count": null,
   "metadata": {},
   "outputs": [],
   "source": [
    "# Split the data into training and test data\n",
    "from sklearn.model_selection import train_test_split\n",
    "x_train, x_test, y_train, y_test = train_test_split(mnist.data, mnist.target, test_size=0.05, random_state=42)\n",
    "\n",
    "# Which is same as \n",
    "# x_train = mnist.data[:split]\n",
    "# y_train = mnist.target[:split]\n",
    "# x_test = mnist.data[split:]\n",
    "# y_test = mnist.target[split:]"
   ]
  },
  {
   "cell_type": "markdown",
   "metadata": {},
   "source": [
    "# Prepare the classifier"
   ]
  },
  {
   "cell_type": "code",
   "execution_count": null,
   "metadata": {},
   "outputs": [],
   "source": [
    "# Create the Multinomial Naive Bayes Classifier\n",
    "from sklearn.naive_bayes import MultinomialNB\n",
    "clf = MultinomialNB()"
   ]
  },
  {
   "cell_type": "markdown",
   "metadata": {},
   "source": [
    "# Perform the predictions and display the results"
   ]
  },
  {
   "cell_type": "code",
   "execution_count": null,
   "metadata": {},
   "outputs": [],
   "source": [
    "# Perform the predictions\n",
    "clf.fit(x_train,y_train)\n",
    "# Perform the predictions\n",
    "y_predicted = clf.predict(x_test)\n",
    "# Calculate the accuracy of the prediction\n",
    "from sklearn.metrics import accuracy_score\n",
    "# Cross validate the scores\n",
    "print (\"Accuracy = {} %\".format(accuracy_score(y_test, y_predicted)*100))\n",
    "\n",
    "from sklearn.metrics import classification_report\n",
    "print (\"Classification Report \\n {}\".format(classification_report(y_test, y_predicted, labels=range(0,10))))"
   ]
  },
  {
   "cell_type": "code",
   "execution_count": null,
   "metadata": {},
   "outputs": [],
   "source": []
  }
 ],
 "metadata": {
  "kernelspec": {
   "display_name": "Python 3",
   "language": "python",
   "name": "python3"
  },
  "language_info": {
   "codemirror_mode": {
    "name": "ipython",
    "version": 3
   },
   "file_extension": ".py",
   "mimetype": "text/x-python",
   "name": "python",
   "nbconvert_exporter": "python",
   "pygments_lexer": "ipython3",
   "version": "3.6.4"
  }
 },
 "nbformat": 4,
 "nbformat_minor": 1
}
